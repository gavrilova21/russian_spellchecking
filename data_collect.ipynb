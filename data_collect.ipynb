{
 "cells": [
  {
   "cell_type": "markdown",
   "id": "3082bde6",
   "metadata": {},
   "source": [
    "# СОЦИАЛЬНЫЕ МЕДИА"
   ]
  },
  {
   "cell_type": "code",
   "execution_count": 1,
   "id": "5267ae08",
   "metadata": {},
   "outputs": [],
   "source": [
    "with open('files/corrected_sents.txt') as f:\n",
    "    contents = [x.strip() for x in f.readlines()]\n",
    "with open('files/source_sents.txt') as f:\n",
    "    source = [x.strip() for x in f.readlines()]"
   ]
  },
  {
   "cell_type": "code",
   "execution_count": 2,
   "id": "2fd4e390",
   "metadata": {},
   "outputs": [
    {
     "data": {
      "text/plain": [
       "['очень классная тетка кто бы что ни говорил',\n",
       " 'Может выгоднее втулку продать и купить колесо в сборе',\n",
       " 'Довольно большая часть пришедших сходила с дорожек и усаживалась на траву',\n",
       " 'Симпатичнейшее шпионское устройство такой себе гламурный фотоаппарат девушки Бонда миниатюрная модель камеры Superheadz Clap Camera',\n",
       " 'Апофеозом дня для меня сегодня стала фраза услышанная в новостях',\n",
       " 'Ну не было поста так не было',\n",
       " 'Хотя странно когда я забирала к себе на выходные старого кота который живет у родителей да и собаку в придачу то такого концерта мой кот не устраивал',\n",
       " 'Думаю что лет через 10 ретроспективно просматривать это будет мне невероятно интересно',\n",
       " 'Зато я считаю что это будет полезно и для меня и для всех тех кто меня окружает ведь когда расстаешься с человеком на какое-то время то многое становится прозрачным я имею ввиду мы начинаем понимать какое место в нашей повседневности занимает этот человек',\n",
       " 'Поясним эту мысль']"
      ]
     },
     "execution_count": 2,
     "metadata": {},
     "output_type": "execute_result"
    }
   ],
   "source": [
    "contents[:10]"
   ]
  },
  {
   "cell_type": "code",
   "execution_count": 3,
   "id": "379b268c",
   "metadata": {},
   "outputs": [
    {
     "data": {
      "image/png": "[encoded data removed]",
      "text/plain": [
       "<Figure size 432x288 with 1 Axes>"
      ]
     },
     "metadata": {
      "needs_background": "light"
     },
     "output_type": "display_data"
    }
   ],
   "source": [
    "from matplotlib import pyplot as plt\n",
    "plt.hist(list(map(len,contents)), bins=200);"
   ]
  },
  {
   "cell_type": "code",
   "execution_count": 4,
   "id": "1ad88ed1",
   "metadata": {},
   "outputs": [
    {
     "data": {
      "text/plain": [
       "399"
      ]
     },
     "execution_count": 4,
     "metadata": {},
     "output_type": "execute_result"
    }
   ],
   "source": [
    "max(list(map(len,contents)))"
   ]
  },
  {
   "cell_type": "code",
   "execution_count": 6,
   "id": "329a93f3",
   "metadata": {},
   "outputs": [],
   "source": [
    "import pandas as pd\n",
    "\n",
    "pd.DataFrame({'source':source, 'target': contents}).to_csv('data/dataset.csv')"
   ]
  },
  {
   "cell_type": "markdown",
   "id": "4bbc733a",
   "metadata": {},
   "source": [
    "# СУБТИТРЫ"
   ]
  },
  {
   "cell_type": "code",
   "execution_count": 1197,
   "id": "f6e5121d",
   "metadata": {},
   "outputs": [],
   "source": [
    "count =0\n",
    "subs = []\n",
    "counts = [0 for i in range(7)]\n",
    "with open('files/OpenSubtitles.en-ru.ru') as f:\n",
    "    while True:\n",
    "        line = f.readline().strip()\n",
    "        if not line:\n",
    "            break\n",
    "        for i in range(7):\n",
    "            if ((len(line)<=50+i*50) and(len(line)>i*50)):\n",
    "                if (counts[i]<=2250):\n",
    "                    subs.append(line)\n",
    "                    counts[i]+=1\n",
    "            elif(len(line)>6*50 and len(line)<600 ):\n",
    "                subs.append(line)\n",
    "                counts[-1]+=1\n",
    "        if((sum(counts))%40000==0):\n",
    "            print(counts)"
   ]
  },
  {
   "cell_type": "code",
   "execution_count": 1198,
   "id": "e932b1bf",
   "metadata": {},
   "outputs": [
    {
     "data": {
      "text/plain": [
       "18011"
      ]
     },
     "execution_count": 1198,
     "metadata": {},
     "output_type": "execute_result"
    }
   ],
   "source": [
    "sum(counts)"
   ]
  },
  {
   "cell_type": "code",
   "execution_count": 876,
   "id": "21382a4f",
   "metadata": {},
   "outputs": [],
   "source": [
    "subs = set(subs)"
   ]
  },
  {
   "cell_type": "code",
   "execution_count": 1051,
   "id": "6879bd80",
   "metadata": {},
   "outputs": [],
   "source": [
    "backslash = \"\\\\'\"\n",
    "bad_list = list('*€¬#√@©e') + ['--']+['\\xa0']+['ѕереводчики']+['ндхм']+['____________']"
   ]
  },
  {
   "cell_type": "code",
   "execution_count": 1052,
   "id": "6417b68a",
   "metadata": {},
   "outputs": [
    {
     "data": {
      "text/plain": [
       "['*',\n",
       " '€',\n",
       " '¬',\n",
       " '#',\n",
       " '√',\n",
       " '@',\n",
       " '©',\n",
       " 'e',\n",
       " '--',\n",
       " '\\xa0',\n",
       " 'ѕереводчики',\n",
       " 'ндхм',\n",
       " '____________']"
      ]
     },
     "execution_count": 1052,
     "metadata": {},
     "output_type": "execute_result"
    }
   ],
   "source": [
    "bad_list"
   ]
  },
  {
   "cell_type": "code",
   "execution_count": 1054,
   "id": "a54b15e9",
   "metadata": {},
   "outputs": [],
   "source": [
    "bad_list\n",
    "def bad(x):\n",
    "    for i in bad_list:\n",
    "        if i in x:\n",
    "            return False\n",
    "    return True\n",
    "subs_ = list(filter(lambda x: bad(x), subs))"
   ]
  },
  {
   "cell_type": "code",
   "execution_count": 1055,
   "id": "4304b8e1",
   "metadata": {},
   "outputs": [],
   "source": [
    "subs_ = list(filter(lambda x: bad(x), subs))"
   ]
  },
  {
   "cell_type": "code",
   "execution_count": 1058,
   "id": "51c4f042",
   "metadata": {},
   "outputs": [
    {
     "data": {
      "image/png": "[encoded data removed]",
      "text/plain": [
       "<Figure size 432x288 with 1 Axes>"
      ]
     },
     "metadata": {
      "needs_background": "light"
     },
     "output_type": "display_data"
    }
   ],
   "source": [
    "plt.hist(list(map(len,subs)), bins=200);"
   ]
  },
  {
   "cell_type": "markdown",
   "id": "905aa6a7",
   "metadata": {},
   "source": [
    "# Новости"
   ]
  },
  {
   "cell_type": "code",
   "execution_count": 1061,
   "id": "f1343943",
   "metadata": {},
   "outputs": [
    {
     "name": "stderr",
     "output_type": "stream",
     "text": [
      "[nltk_data] Downloading package punkt to\n",
      "[nltk_data]     /Users/anastasiyagavrilova/nltk_data...\n",
      "[nltk_data]   Package punkt is already up-to-date!\n"
     ]
    },
    {
     "data": {
      "text/plain": [
       "True"
      ]
     },
     "execution_count": 1061,
     "metadata": {},
     "output_type": "execute_result"
    }
   ],
   "source": [
    "import nltk\n",
    "nltk.download('punkt')"
   ]
  },
  {
   "cell_type": "code",
   "execution_count": null,
   "id": "416415cb",
   "metadata": {},
   "outputs": [],
   "source": [
    "import pandas as pd\n",
    "df = pd.read_csv('files/news.csv',  usecols=['text'],nrows=20000)"
   ]
  },
  {
   "cell_type": "code",
   "execution_count": null,
   "id": "40cebbb7",
   "metadata": {},
   "outputs": [],
   "source": [
    "df.head()"
   ]
  },
  {
   "cell_type": "code",
   "execution_count": null,
   "id": "7b631df5",
   "metadata": {},
   "outputs": [],
   "source": []
  },
  {
   "cell_type": "code",
   "execution_count": 1068,
   "id": "d6a17a67",
   "metadata": {},
   "outputs": [
    {
     "name": "stdout",
     "output_type": "stream",
     "text": [
      "[1146, 3480, 2586, 1219, 406, 124, 39]\n"
     ]
    }
   ],
   "source": [
    "from unicodedata import normalize\n",
    "# normalize('NFKD', s)\n",
    "counts = [0 for i in range(7)]\n",
    "sents_news = []\n",
    "for i, text in df.iterrows():\n",
    "    lines = nltk.tokenize.sent_tokenize(text['text'])\n",
    "    for line in lines:\n",
    "        for i in range(7):\n",
    "            if ((len(line)<=50+i*50) and(len(line)>i*50)):\n",
    "                if (counts[i]<=3500):\n",
    "                    sents_news.append(normalize('NFKD', line))\n",
    "                    counts[i]+=1\n",
    "                    break\n",
    "            elif(len(line)>6*50 and len(line)<600):\n",
    "                sents_news.append(normalize('NFKD', line))\n",
    "    if (sum(counts))>=7*2500:\n",
    "        break\n",
    "    if((sum(counts))%3000==0):\n",
    "        print(counts)"
   ]
  },
  {
   "cell_type": "code",
   "execution_count": 1069,
   "id": "d1ba1be5",
   "metadata": {},
   "outputs": [],
   "source": [
    "# sents = []\n",
    "# from nltk import tokenize\n",
    "# for i, text in df.iterrows():\n",
    "#     sents +=tokenize.sent_tokenize(text['text'])"
   ]
  },
  {
   "cell_type": "code",
   "execution_count": 1196,
   "id": "ee88b485",
   "metadata": {},
   "outputs": [],
   "source": [
    "sents_news = list(set(sents_news));"
   ]
  },
  {
   "cell_type": "code",
   "execution_count": 1072,
   "id": "761dd72a",
   "metadata": {},
   "outputs": [
    {
     "data": {
      "image/png": "[encoded data removed]",
      "text/plain": [
       "<Figure size 432x288 with 1 Axes>"
      ]
     },
     "metadata": {
      "needs_background": "light"
     },
     "output_type": "display_data"
    }
   ],
   "source": [
    "plt.hist(list(map(len,sents_news)), bins=200);"
   ]
  },
  {
   "cell_type": "code",
   "execution_count": 1073,
   "id": "d834b3de",
   "metadata": {},
   "outputs": [
    {
     "data": {
      "text/plain": [
       "16814"
      ]
     },
     "execution_count": 1073,
     "metadata": {},
     "output_type": "execute_result"
    }
   ],
   "source": [
    "len(sents_news)"
   ]
  },
  {
   "cell_type": "markdown",
   "id": "b44a0573",
   "metadata": {},
   "source": [
    "# ЛИТЕРАТУРА"
   ]
  },
  {
   "cell_type": "code",
   "execution_count": null,
   "id": "0b1bf731",
   "metadata": {},
   "outputs": [],
   "source": [
    "df = pd.read_csv('files/zlatoust_paragraph_aligned_with_bleualign.csv', usecols=['source'])\n",
    "df.head()"
   ]
  },
  {
   "cell_type": "code",
   "execution_count": 1077,
   "id": "bf472b7f",
   "metadata": {},
   "outputs": [
    {
     "name": "stdout",
     "output_type": "stream",
     "text": [
      "[1010, 504, 262, 125, 53, 35, 11]\n",
      "[1501, 1501, 1501, 820, 398, 185, 94]\n",
      "[1501, 1501, 1501, 820, 398, 185, 94]\n",
      "[1501, 1501, 1501, 820, 398, 185, 94]\n"
     ]
    }
   ],
   "source": [
    "counts = [0 for i in range(7)]\n",
    "sents_litre = []\n",
    "for i, text in df.iterrows():\n",
    "    lines = nltk.tokenize.sent_tokenize(text['source'])\n",
    "    for line in lines:\n",
    "        for i in range(7):\n",
    "            if ((len(line)<=50+i*50) and(len(line)>i*50)):\n",
    "                if (counts[i]<=1500):\n",
    "                    sents_litre.append(normalize('NFKD', line))\n",
    "                    counts[i]+=1\n",
    "                    break\n",
    "            elif(len(line)>6*50 and len(line)<600):\n",
    "                sents_litre.append(normalize('NFKD', line))\n",
    "    if (sum(counts))>=7*2500:\n",
    "        break\n",
    "    if((sum(counts))%2000==0):\n",
    "        print(counts)"
   ]
  },
  {
   "cell_type": "code",
   "execution_count": 1078,
   "id": "01855729",
   "metadata": {},
   "outputs": [
    {
     "data": {
      "text/plain": [
       "['Возвратясь в гостиную, они уселись втроем: старики вспомнили прежнее время и анекдоты своей службы, а Алексей размышлял о том, какую роль играть ему в присутствии Лизы.',\n",
       " 'Ударилась плечом, выбежала на крыльцо и ослепла от яркого солнца.',\n",
       " 'Мое сердце, после ваших слов, сжало какое-то предчувствие.',\n",
       " 'Надо беспристрастно: свиньи, так и есть свиньи... Спасибо немцам за то, что побили... Ей-богу, спасибо.',\n",
       " 'Тем самым, что и прежде, - тем, что русский либерал есть покамест еще нерусский либерал; больше ничем, по-моему.',\n",
       " 'Да зачем?',\n",
       " '– Мы боялись даже за его жизнь.',\n",
       " 'Почти не оставалось сил у русского народа для свободной творческой жизни, вся кровь шла на укрепление и защиту государства.',\n",
       " '- спрашивала генеральша, с недоумением и досадой оглядывая всех говоривших, но увидев, что Аглая вспыхнула, с сердцем прибавила: - Вздор какой-нибудь!',\n",
       " 'Однажды ее пригласили на вечер.']"
      ]
     },
     "execution_count": 1078,
     "metadata": {},
     "output_type": "execute_result"
    }
   ],
   "source": [
    "sents_litre = list(set(sents_litre))\n",
    "sents_litre[:10] "
   ]
  },
  {
   "cell_type": "code",
   "execution_count": 1079,
   "id": "4a25561f",
   "metadata": {},
   "outputs": [
    {
     "data": {
      "text/plain": [
       "7255"
      ]
     },
     "execution_count": 1079,
     "metadata": {},
     "output_type": "execute_result"
    }
   ],
   "source": [
    "len(sents_litre)"
   ]
  },
  {
   "cell_type": "code",
   "execution_count": 1080,
   "id": "612b3d4a",
   "metadata": {},
   "outputs": [
    {
     "data": {
      "image/png": "[encoded data removed]",
      "text/plain": [
       "<Figure size 432x288 with 1 Axes>"
      ]
     },
     "metadata": {
      "needs_background": "light"
     },
     "output_type": "display_data"
    }
   ],
   "source": [
    "plt.hist(list(map(len,sents_litre)), bins=200);"
   ]
  },
  {
   "cell_type": "markdown",
   "id": "0b3b7f1b",
   "metadata": {},
   "source": [
    "# GAZETA"
   ]
  },
  {
   "cell_type": "code",
   "execution_count": 1187,
   "id": "718f7041",
   "metadata": {},
   "outputs": [],
   "source": [
    "import json\n",
    "with open('gazeta_train.jsonl', 'r') as json_file:\n",
    "    json_list = list(json_file)\n",
    "texts = []\n",
    "for json_str in json_list:\n",
    "    result = json.loads(json_str)\n",
    "\n",
    "    texts.append(result['text'])"
   ]
  },
  {
   "cell_type": "code",
   "execution_count": 1188,
   "id": "52af3a68",
   "metadata": {},
   "outputs": [],
   "source": [
    "from nltk import sent_tokenize\n",
    "sents = []\n",
    "for text in texts:\n",
    "    sents+= sent_tokenize(text)"
   ]
  },
  {
   "cell_type": "code",
   "execution_count": 1190,
   "id": "2f8fa1bc",
   "metadata": {},
   "outputs": [],
   "source": [
    "counts = [0 for i in range(9)]\n",
    "sents_gazeta= []\n",
    "for line in sents:\n",
    "    for i in range(9):\n",
    "        if ((len(line)<=50+i*50) and(len(line)>i*50)):\n",
    "            if (counts[i]<=10000):\n",
    "                if line not in sents_gazeta:\n",
    "                    sents_gazeta.append( line)\n",
    "                    counts[i]+=1\n",
    "                    break\n",
    "#         elif(len(line)>6*50 and len(line)<600):\n",
    "#             sents_gazeta.append( line)\n",
    "#     if (sum(counts))>=7*2500:\n",
    "#         break\n",
    "    if((sum(counts))%100000==0):\n",
    "        print(counts)"
   ]
  },
  {
   "cell_type": "code",
   "execution_count": 1191,
   "id": "e10e9764",
   "metadata": {},
   "outputs": [
    {
     "data": {
      "text/plain": [
       "['Сегодня транспортный налог начисляется в зависимости от мощности автомобиля, причем цена для «сильных» машин выше, чем для малолитражек.',\n",
       " 'Также ставку налога могут корректировать региональные власти: согласно Налоговому кодексу, базовый тариф, установленный правительством, может быть уменьшен в пять раз или увеличен до 10 раз.',\n",
       " 'Сборы идут в региональные бюджеты, откуда растекаются на общие нужды.',\n",
       " 'Транспортный налог — один из основных источников бюджетных доходов — предлагается направить исключительно на дорожные фонды.',\n",
       " 'Так, автомобилисты будут понимать, за что они платят, а дорожники будут иметь гарантированный доход.',\n",
       " 'Кроме налога дорожные фонды будут пополняться за счет бюджетных средств и проезда по платным дорогам.',\n",
       " 'Более того, транспортный налог предлагается завуалировать в акцизы на бензин.',\n",
       " 'Привычную и раздражающую систему ежегодной оплаты квитанции предлагается изменить, включив налог в стоимость топлива.',\n",
       " 'Минэкономразвития говорит об удвоении акцизы, которая сегодня составляет 3,32 рубля за литр 92-го и 95-го бензина.',\n",
       " 'Теперь платить будет не тот, кто купил машину мощнее, а тот, кто больше ездит.']"
      ]
     },
     "execution_count": 1191,
     "metadata": {},
     "output_type": "execute_result"
    }
   ],
   "source": [
    "sents_gazeta[:10]"
   ]
  },
  {
   "cell_type": "markdown",
   "id": "1a376494",
   "metadata": {},
   "source": [
    "# Generate errors"
   ]
  },
  {
   "cell_type": "code",
   "execution_count": 1192,
   "id": "8c871d41",
   "metadata": {},
   "outputs": [
    {
     "data": {
      "text/html": [
       "<div>\n",
       "<style scoped>\n",
       "    .dataframe tbody tr th:only-of-type {\n",
       "        vertical-align: middle;\n",
       "    }\n",
       "\n",
       "    .dataframe tbody tr th {\n",
       "        vertical-align: top;\n",
       "    }\n",
       "\n",
       "    .dataframe thead th {\n",
       "        text-align: right;\n",
       "    }\n",
       "</style>\n",
       "<table border=\"1\" class=\"dataframe\">\n",
       "  <thead>\n",
       "    <tr style=\"text-align: right;\">\n",
       "      <th></th>\n",
       "      <th>CORRECT</th>\n",
       "      <th>MISTAKE</th>\n",
       "      <th>WEIGHT</th>\n",
       "    </tr>\n",
       "  </thead>\n",
       "  <tbody>\n",
       "    <tr>\n",
       "      <th>0</th>\n",
       "      <td>болота</td>\n",
       "      <td>болотро</td>\n",
       "      <td>0.5000</td>\n",
       "    </tr>\n",
       "    <tr>\n",
       "      <th>1</th>\n",
       "      <td>болота</td>\n",
       "      <td>балото</td>\n",
       "      <td>0.2652</td>\n",
       "    </tr>\n",
       "    <tr>\n",
       "      <th>2</th>\n",
       "      <td>болота</td>\n",
       "      <td>боллото</td>\n",
       "      <td>0.0909</td>\n",
       "    </tr>\n",
       "    <tr>\n",
       "      <th>3</th>\n",
       "      <td>болота</td>\n",
       "      <td>болотоэ</td>\n",
       "      <td>0.0909</td>\n",
       "    </tr>\n",
       "    <tr>\n",
       "      <th>4</th>\n",
       "      <td>болото</td>\n",
       "      <td>палатаа</td>\n",
       "      <td>0.5000</td>\n",
       "    </tr>\n",
       "  </tbody>\n",
       "</table>\n",
       "</div>"
      ],
      "text/plain": [
       "  CORRECT  MISTAKE  WEIGHT\n",
       "0  болота  болотро  0.5000\n",
       "1  болота   балото  0.2652\n",
       "2  болота  боллото  0.0909\n",
       "3  болота  болотоэ  0.0909\n",
       "4  болото  палатаа  0.5000"
      ]
     },
     "execution_count": 1192,
     "metadata": {},
     "output_type": "execute_result"
    }
   ],
   "source": [
    "errors = pd.read_csv('files/orfo_and_typos.L1_5+PHON.csv', sep=';')\n",
    "errors.head()"
   ]
  },
  {
   "cell_type": "code",
   "execution_count": null,
   "id": "3a2cafa7",
   "metadata": {},
   "outputs": [],
   "source": []
  },
  {
   "cell_type": "code",
   "execution_count": 1193,
   "id": "e37ffc71",
   "metadata": {},
   "outputs": [
    {
     "data": {
      "text/plain": [
       "(['пижик', 'ёжиу', 'рик', 'рижик', 'ёжиг'],)"
      ]
     },
     "execution_count": 1193,
     "metadata": {},
     "output_type": "execute_result"
    }
   ],
   "source": [
    "err.loc['ёжик', 'MISTAKE'],"
   ]
  },
  {
   "cell_type": "code",
   "execution_count": 1194,
   "id": "490ad0dc",
   "metadata": {},
   "outputs": [
    {
     "data": {
      "text/html": [
       "<div>\n",
       "<style scoped>\n",
       "    .dataframe tbody tr th:only-of-type {\n",
       "        vertical-align: middle;\n",
       "    }\n",
       "\n",
       "    .dataframe tbody tr th {\n",
       "        vertical-align: top;\n",
       "    }\n",
       "\n",
       "    .dataframe thead th {\n",
       "        text-align: right;\n",
       "    }\n",
       "</style>\n",
       "<table border=\"1\" class=\"dataframe\">\n",
       "  <thead>\n",
       "    <tr style=\"text-align: right;\">\n",
       "      <th></th>\n",
       "      <th>MISTAKE</th>\n",
       "      <th>WEIGHT</th>\n",
       "    </tr>\n",
       "    <tr>\n",
       "      <th>CORRECT</th>\n",
       "      <th></th>\n",
       "      <th></th>\n",
       "    </tr>\n",
       "  </thead>\n",
       "  <tbody>\n",
       "    <tr>\n",
       "      <th>а</th>\n",
       "      <td>[п, з, х, н, ъ, йф, йц, ооооо, ёёёёё, нд, кп, ...</td>\n",
       "      <td>[0.6667, 0.5833, 0.5833, 0.5556, 0.5, 0.5, 0.5...</td>\n",
       "    </tr>\n",
       "    <tr>\n",
       "      <th>аб</th>\n",
       "      <td>[аег, аон, афп, н, алр, алн, тьб, ато, аок]</td>\n",
       "      <td>[0.5, 0.5, 0.5, 0.5, 0.5, 0.5, 0.5, 0.5, 0.5]</td>\n",
       "    </tr>\n",
       "    <tr>\n",
       "      <th>аба</th>\n",
       "      <td>[абыра, амиа, лыба, абфы]</td>\n",
       "      <td>[0.5, 0.5, 0.5, 0.5]</td>\n",
       "    </tr>\n",
       "    <tr>\n",
       "      <th>абажур</th>\n",
       "      <td>[абожюр, обажур, абажюр, абожур, абвжур, обожур]</td>\n",
       "      <td>[0.5, 0.3333, 0.239, 0.1282, 0.1111, 0.101]</td>\n",
       "    </tr>\n",
       "    <tr>\n",
       "      <th>аббревиатура</th>\n",
       "      <td>[абревиатюра, абревиатура, абревеатура, абриви...</td>\n",
       "      <td>[0.25, 0.1528, 0.1528, 0.1111, 0.0556, 0.0556,...</td>\n",
       "    </tr>\n",
       "  </tbody>\n",
       "</table>\n",
       "</div>"
      ],
      "text/plain": [
       "                                                        MISTAKE  \\\n",
       "CORRECT                                                           \n",
       "а             [п, з, х, н, ъ, йф, йц, ооооо, ёёёёё, нд, кп, ...   \n",
       "аб                  [аег, аон, афп, н, алр, алн, тьб, ато, аок]   \n",
       "аба                                   [абыра, амиа, лыба, абфы]   \n",
       "абажур         [абожюр, обажур, абажюр, абожур, абвжур, обожур]   \n",
       "аббревиатура  [абревиатюра, абревиатура, абревеатура, абриви...   \n",
       "\n",
       "                                                         WEIGHT  \n",
       "CORRECT                                                          \n",
       "а             [0.6667, 0.5833, 0.5833, 0.5556, 0.5, 0.5, 0.5...  \n",
       "аб                [0.5, 0.5, 0.5, 0.5, 0.5, 0.5, 0.5, 0.5, 0.5]  \n",
       "аба                                        [0.5, 0.5, 0.5, 0.5]  \n",
       "абажур              [0.5, 0.3333, 0.239, 0.1282, 0.1111, 0.101]  \n",
       "аббревиатура  [0.25, 0.1528, 0.1528, 0.1111, 0.0556, 0.0556,...  "
      ]
     },
     "execution_count": 1194,
     "metadata": {},
     "output_type": "execute_result"
    }
   ],
   "source": [
    "err = pd.DataFrame(errors.groupby('CORRECT').MISTAKE.apply(list))\n",
    "err['WEIGHT'] = errors.groupby('CORRECT').WEIGHT.apply(list)\n",
    "err.head()"
   ]
  },
  {
   "cell_type": "code",
   "execution_count": 1195,
   "id": "8df0ed36",
   "metadata": {},
   "outputs": [],
   "source": [
    "from numpy.random import choice\n",
    "def make_error(word):\n",
    "    x = np.array(err.loc[word, 'WEIGHT'])\n",
    "    x/x.sum()\n",
    "    return choice(err.loc[word, 'MISTAKE'], 1,\n",
    "                  p=x/x.sum())[0]\n",
    "    "
   ]
  },
  {
   "cell_type": "code",
   "execution_count": 1113,
   "id": "1b466f2b",
   "metadata": {},
   "outputs": [
    {
     "data": {
      "text/plain": [
       "'жет'"
      ]
     },
     "execution_count": 1113,
     "metadata": {},
     "output_type": "execute_result"
    }
   ],
   "source": [
    "make_error('жить')"
   ]
  },
  {
   "cell_type": "code",
   "execution_count": 1114,
   "id": "eaf4da9d",
   "metadata": {},
   "outputs": [
    {
     "data": {
      "text/plain": [
       "True"
      ]
     },
     "execution_count": 1114,
     "metadata": {},
     "output_type": "execute_result"
    }
   ],
   "source": [
    "'жить' in err.index"
   ]
  },
  {
   "cell_type": "code",
   "execution_count": 1115,
   "id": "6c3b166c",
   "metadata": {},
   "outputs": [
    {
     "data": {
      "text/plain": [
       "0.622646813248237"
      ]
     },
     "execution_count": 1115,
     "metadata": {},
     "output_type": "execute_result"
    }
   ],
   "source": [
    "np.random.rand()"
   ]
  },
  {
   "cell_type": "code",
   "execution_count": 1124,
   "id": "49d14d87",
   "metadata": {},
   "outputs": [],
   "source": [
    "from string import ascii_letters\n",
    "\n",
    "def validate(nickname):\n",
    "    return all(map(lambda c: c in ascii_letters, nickname))"
   ]
  },
  {
   "cell_type": "code",
   "execution_count": 1126,
   "id": "0be996c9",
   "metadata": {},
   "outputs": [
    {
     "data": {
      "text/plain": [
       "False"
      ]
     },
     "execution_count": 1126,
     "metadata": {},
     "output_type": "execute_result"
    }
   ],
   "source": [
    "validate('мааамаа')"
   ]
  },
  {
   "cell_type": "code",
   "execution_count": 1134,
   "id": "691a0f10",
   "metadata": {},
   "outputs": [],
   "source": [
    "SOS = '\\t' \n",
    "EOS = '*' \n",
    "chars = list('йцукенгшщзхъфывапролджэячсмитьбюёЙЦУКЕНГШЩЗХЪЭЖДЛОРПАВЫФЯЧСМИТЬБЮЁ')\n",
    "REMOVE_CHARS = '[#$%\"\\+@<=>!&,-.?:;()*\\[\\]^_`{|}~/\\d\\t\\n\\r\\x0b\\x0c]'\n",
    "\n",
    "import numpy as np \n",
    "import random\n",
    "def add_spelling_errors(token, error_rate=0.22):\n",
    "    if (validate(token)): # английские опечатки не исправляем\n",
    "        return token\n",
    "    \n",
    "    assert(0.0 <= error_rate < 1.0)\n",
    "    if len(token) < 2:\n",
    "        return token\n",
    "    rand = np.random.rand()\n",
    "    if(rand>error_rate):\n",
    "        return token\n",
    "    prob = error_rate / 4.0\n",
    "#     print(token)\n",
    "    if token in err.index:\n",
    "#         print('ДА')\n",
    "        return make_error(token)\n",
    "    elif rand < prob: # вставка лишнего символа\n",
    "        random_char_index = np.random.randint(len(token))\n",
    "        token = token[:random_char_index] + np.random.choice(chars) \\\n",
    "                + token[random_char_index + 1:]\n",
    "    elif prob < rand < prob * 2: # пропуск символа\n",
    "\n",
    "        random_char_index = np.random.randint(len(token))\n",
    "        token = token[:random_char_index] + token[random_char_index + 1:]\n",
    "    elif prob * 2 < rand < prob * 3: #замена символа\n",
    "        random_char_index = np.random.randint(len(token))\n",
    "        token = token[:random_char_index] + np.random.choice(chars) \\\n",
    "                + token[random_char_index:]\n",
    "    elif prob * 3 < rand < prob * 4: # буквы поменяны местами\n",
    "        random_char_index = np.random.randint(len(token) - 1)\n",
    "        token = token[:random_char_index]  + token[random_char_index + 1] \\\n",
    "                + token[random_char_index] + token[random_char_index + 2:]\n",
    "\n",
    "    return token\n",
    "\n",
    "def add_errors(sent):\n",
    "    tokens = sent.split(' ')\n",
    "#     num_err = random.randint(1, max(1,len(sent)//20))\n",
    "    for i in range(len(tokens)):\n",
    "        tokens[i] = add_spelling_errors(tokens[i])\n",
    "    return ' '.join(tokens)"
   ]
  },
  {
   "cell_type": "code",
   "execution_count": 1135,
   "id": "54cab64c",
   "metadata": {},
   "outputs": [],
   "source": [
    "from random import shuffle\n",
    "# shuffle(dataset)"
   ]
  },
  {
   "cell_type": "code",
   "execution_count": 1136,
   "id": "89bc6ccf",
   "metadata": {},
   "outputs": [],
   "source": [
    "dataset =list(sents_litre[:]+sents_news[:]+subs_[:]+sents_gazeta)\n",
    "shuffle(dataset)"
   ]
  },
  {
   "cell_type": "code",
   "execution_count": 1137,
   "id": "e8b2397d",
   "metadata": {},
   "outputs": [],
   "source": [
    "dataset = list(contents[:2000])+dataset"
   ]
  },
  {
   "cell_type": "code",
   "execution_count": 1138,
   "id": "7da00e89",
   "metadata": {},
   "outputs": [
    {
     "data": {
      "image/png": "[encoded data removed]",
      "text/plain": [
       "<Figure size 432x288 with 1 Axes>"
      ]
     },
     "metadata": {
      "needs_background": "light"
     },
     "output_type": "display_data"
    }
   ],
   "source": [
    "plt.hist(list(map(len,dataset)), bins=200);"
   ]
  },
  {
   "cell_type": "code",
   "execution_count": 1154,
   "id": "972f9311",
   "metadata": {},
   "outputs": [],
   "source": [
    "bad_list = ['*',\n",
    " '€',\n",
    " '¬',\n",
    " '#',\n",
    " '√',\n",
    " '@',\n",
    " '©',\n",
    " 'e',\n",
    " '--',\n",
    " '\\xa0',\n",
    " 'ѕереводчики',\n",
    " 'ндхм',\n",
    " '____________'\n",
    "           '+',\n",
    "]"
   ]
  },
  {
   "cell_type": "code",
   "execution_count": 1155,
   "id": "709b6197",
   "metadata": {},
   "outputs": [],
   "source": [
    "bad_list.append('+')\n",
    "def bad(x):\n",
    "    for i in bad_list:\n",
    "        if i in x:\n",
    "            return False\n",
    "    return True\n",
    "dataset_ = list(filter(lambda x: bad(x), dataset))"
   ]
  },
  {
   "cell_type": "code",
   "execution_count": 1169,
   "id": "93e24485",
   "metadata": {},
   "outputs": [],
   "source": [
    "dataset = dataset_"
   ]
  },
  {
   "cell_type": "code",
   "execution_count": 1175,
   "id": "949d9224",
   "metadata": {},
   "outputs": [
    {
     "data": {
      "text/plain": [
       "'ы привыкли жить под пятой угнетателей.'"
      ]
     },
     "execution_count": 1175,
     "metadata": {},
     "output_type": "execute_result"
    }
   ],
   "source": [
    "add_errors('Мы привыкли жить под пятой угнетателей.')"
   ]
  },
  {
   "cell_type": "code",
   "execution_count": 1179,
   "id": "c53e0893",
   "metadata": {},
   "outputs": [],
   "source": [
    "bad_sents=[]\n",
    "for sent in dataset:\n",
    "    bad_sents.append(add_errors(sent))"
   ]
  },
  {
   "cell_type": "code",
   "execution_count": 1180,
   "id": "262ca609",
   "metadata": {},
   "outputs": [
    {
     "data": {
      "text/plain": [
       "'Утром 7 фераля  сообщалось  о якобы разоблачении анонимного пользователя форума «Двач», который рассказал, что работает анестезистом и убивает апциентов, отключая их от аппарата искусственной вентиляции легких.'"
      ]
     },
     "execution_count": 1180,
     "metadata": {},
     "output_type": "execute_result"
    }
   ],
   "source": [
    "bad_sents[2115]"
   ]
  },
  {
   "cell_type": "code",
   "execution_count": 1184,
   "id": "b8e25f6f",
   "metadata": {},
   "outputs": [],
   "source": [
    "pd.DataFrame({'source':bad_sents, 'target':dataset}).to_csv('data/dataset_big.csv')"
   ]
  },
  {
   "cell_type": "code",
   "execution_count": null,
   "id": "0f858032",
   "metadata": {},
   "outputs": [],
   "source": []
  }
 ],
 "metadata": {
  "kernelspec": {
   "display_name": "Python 3 (ipykernel)",
   "language": "python",
   "name": "python3"
  },
  "language_info": {
   "codemirror_mode": {
    "name": "ipython",
    "version": 3
   },
   "file_extension": ".py",
   "mimetype": "text/x-python",
   "name": "python",
   "nbconvert_exporter": "python",
   "pygments_lexer": "ipython3",
   "version": "3.9.15"
  }
 },
 "nbformat": 4,
 "nbformat_minor": 5
}
